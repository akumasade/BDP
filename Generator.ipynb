{
 "cells": [
  {
   "cell_type": "code",
   "execution_count": 61,
   "metadata": {
    "collapsed": false
   },
   "outputs": [],
   "source": [
    "#import nltk\n",
    "import os, string, json, textract, markovify\n",
    "\n",
    "# Directory from which we are going to train our model on\n",
    "\n",
    "#directory = \"./twitter_samples\"\n",
    "directory = \"./ChopraEdited\"\n"
   ]
  },
  {
   "cell_type": "code",
   "execution_count": 18,
   "metadata": {
    "collapsed": false
   },
   "outputs": [],
   "source": [
    "def extract_chopra(path):\n",
    "    \"\"\"\n",
    "    Function to extract all text from a file as a single string\n",
    "    (Also removes non-ascii characters)\n",
    "    \"\"\"\n",
    "    import string\n",
    "    #create set of printable characters for filtering non-ascii charaters\n",
    "    printable = set(string.printable)\n",
    "    \n",
    "    #only reading from pdf files\n",
    "    if filename.endswith(\".pdf\"):\n",
    "        text = textract.process(path)\n",
    "    else:\n",
    "        pass\n",
    "    \n",
    "    text.replace(\"\\n\", \" \")\n",
    "    text.replace(\"\\t\", \" \")\n",
    "    filter(lambda x: x in printable, text)\n",
    "    return text"
   ]
  },
  {
   "cell_type": "code",
   "execution_count": 19,
   "metadata": {
    "collapsed": false
   },
   "outputs": [],
   "source": [
    "def extract_tweets(path):\n",
    "    \"\"\"\n",
    "    Function specifically made to read twitter_samples json files\n",
    "    \"\"\"\n",
    "    dict_list = []\n",
    "    \n",
    "    for line in open(path):\n",
    "        loaded = json.loads(line)\n",
    "        dict_list.append(loaded)\n",
    "        \n",
    "    text = \"\"\n",
    "    for item in dict_list:\n",
    "        try:\n",
    "            tweet = item[\"text\"]\n",
    "            filter(lambda x: x in printable, tweet)\n",
    "            text = text + str(tweet)\n",
    "        except UnicodeEncodeError:\n",
    "            pass\n",
    "    \n",
    "    return text"
   ]
  },
  {
   "cell_type": "code",
   "execution_count": 30,
   "metadata": {
    "collapsed": false
   },
   "outputs": [
    {
     "name": "stdout",
     "output_type": "stream",
     "text": [
      "./ChopraEdited/Chopra-Deepak-How-To-Know-God_Clean.pdf\n",
      "./ChopraEdited/Chopra-Deepak-the_seven_spiritual_laws_of_yoga_Clean.pdf\n",
      "./ChopraEdited/DeepakChopra_Interview_Clean.pdf\n",
      "./ChopraEdited/Chopra-Deepak-Book-Of-Secrets_Clean.pdf\n",
      "./ChopraEdited/Chopra-Deepak-the-7-laws-of-success_Clean.pdf\n",
      "./ChopraEdited/DeepakChopra_Quotes_Clean.pdf\n",
      "./ChopraEdited/Chopra-Deepak-superbrain_Clean.pdf\n"
     ]
    }
   ],
   "source": [
    "# Extract texts as one big string (could change this later)\n",
    "\n",
    "alltext = \"\"\n",
    "\n",
    "print \"Reading files...\"\n",
    "for filename in os.listdir(directory):\n",
    "    \n",
    "    path = os.path.join(directory,filename)\n",
    "    \n",
    "    if directory.find(\"twitter_samples\") and filename.endswith(\".json\"):\n",
    "        print path\n",
    "        text = extract_tweets(path)\n",
    "        alltext = alltext + \". \" + text\n",
    "    \n",
    "    elif directory.find(\"Chopra\") and filename.endswith(\".pdf\"):\n",
    "        print path\n",
    "        text = extract_chopra(path)\n",
    "        alltext = alltext + \" \" + text\n",
    "        \n",
    "\n",
    "print \"Done Reading.\""
   ]
  },
  {
   "cell_type": "code",
   "execution_count": 57,
   "metadata": {
    "collapsed": true
   },
   "outputs": [],
   "source": [
    "#Now onto the Markov Chains\n",
    "text_model = markovify.Text(alltext, state_size=4)\n"
   ]
  },
  {
   "cell_type": "code",
   "execution_count": 63,
   "metadata": {
    "collapsed": false
   },
   "outputs": [
    {
     "name": "stdout",
     "output_type": "stream",
     "text": [
      "1. Maslow himself, believing with all his heart that human nature is freighted with violence and repression.\n",
      "\n",
      "2. The vast majority of the cells in your body accept such defeatist logic?\n",
      "\n",
      "3. CLAIRVOYANCE AND PROPHECY The quantum world is a place of refuge from fear and confusion.\n",
      "\n",
      "4. Both have acquired Vidya, the kind of knowledge you must tune into.\n",
      "\n",
      "5. The Ganges cuts a roaring gorge a hundred miles from the nearest town, and there were no symptoms of any disease.\n",
      "\n",
      "6. Try this program for a month, and you will see how quickly it expands; a single thread leads to a complex tapestry.\n",
      "\n",
      "7. Physics has struggled hard with this state that comes before time and space, and the boundary of personality is just as fuzzy.\n",
      "\n",
      "8. Lower your right leg to the floor, close your eyes, and take a slow, deep breath through your nose while thinking the word So.\n",
      "\n",
      "9. Brahmacharya, the third Yama, is often translated as “faith” or “surrendering to God.”\n",
      "\n",
      "10. Every single atom in the universe is temporary.\n",
      "\n"
     ]
    }
   ],
   "source": [
    "for i in range(10):\n",
    "    print \"%s. %s\\n\" % (i+1, text_model.make_sentence(tries=100))"
   ]
  },
  {
   "cell_type": "code",
   "execution_count": null,
   "metadata": {
    "collapsed": true
   },
   "outputs": [],
   "source": []
  }
 ],
 "metadata": {
  "kernelspec": {
   "display_name": "Python [Root]",
   "language": "python",
   "name": "Python [Root]"
  },
  "language_info": {
   "codemirror_mode": {
    "name": "ipython",
    "version": 2
   },
   "file_extension": ".py",
   "mimetype": "text/x-python",
   "name": "python",
   "nbconvert_exporter": "python",
   "pygments_lexer": "ipython2",
   "version": "2.7.12"
  }
 },
 "nbformat": 4,
 "nbformat_minor": 0
}
